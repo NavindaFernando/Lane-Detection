{
 "cells": [
  {
   "cell_type": "code",
   "execution_count": 6,
   "id": "c957217e",
   "metadata": {},
   "outputs": [
    {
     "name": "stderr",
     "output_type": "stream",
     "text": [
      "C:\\Users\\CNN COMPUTERS\\AppData\\Local\\Temp\\ipykernel_6036\\3563675261.py:10: DeprecationWarning: `np.float` is a deprecated alias for the builtin `float`. To silence this warning, use `float` by itself. Doing this will not modify any behavior and is safe. If you specifically wanted the numpy scalar type, use `np.float64` here.\n",
      "Deprecated in NumPy 1.20; for more details and guidance: https://numpy.org/devdocs/release/1.20.0-notes.html#deprecations\n",
      "  [-1,0,1]],np.float)\n"
     ]
    }
   ],
   "source": [
    "import cv2\n",
    "import numpy as np\n",
    "\n",
    "# get video\n",
    "source=cv2.VideoCapture('samples/lanes_clip_video_path.mp4')\n",
    "\n",
    "# initialize kernel / vertical edges detection (here thinks that the lines on the road are vertical edges)\n",
    "kernel=np.array([[-1,0,1],\n",
    "                 [-2,0,2],\n",
    "                 [-1,0,1]],np.float)\n",
    "while(True):\n",
    "    \n",
    "    ret,img=source.read() # read image frame in video\n",
    "    gray=cv2.cvtColor(img,cv2.COLOR_BGR2GRAY) # convrt to gray image\n",
    "    conv=cv2.filter2D(gray,-1,kernel) # get convolution (using kernel / filter)\n",
    "    ret, thresh = cv2.threshold(conv, 100, 255, 0) # threshold convolution\n",
    "    contours, hierarchy = cv2.findContours(thresh, cv2.RETR_TREE,cv2.CHAIN_APPROX_SIMPLE) # find contours\n",
    "    \n",
    "    # go to all contours \n",
    "    for cnt in contours:\n",
    "        area=cv2.contourArea(cnt)\n",
    "        #print(area)\n",
    "        if(area>50):\n",
    "            cv2.drawContours(img, [cnt], -1, (0,255,255), 3)\n",
    "            # drow bounding rectangle\n",
    "            #x,y,w,h = cv2.boundingRect(cnt)\n",
    "            #img = cv2.rectangle(img,(x,y),(x+w,y+h),(0,0,255),2)            \n",
    "            \n",
    "            # drow min area rectangle\n",
    "            rect = cv2.minAreaRect(cnt) \n",
    "            box = cv2.boxPoints(rect)\n",
    "            box = np.int0(box)\n",
    "            cv2.drawContours(img,[box],0,(0,0,255),2)\n",
    "            \n",
    "    # show \n",
    "    cv2.imshow('LIVE',img)\n",
    "    cv2.imshow('conv',conv)\n",
    "    cv2.imshow('thresh',thresh)\n",
    "    key=cv2.waitKey(100)\n",
    "\n",
    "    if(key==27):\n",
    "        break\n",
    "        \n",
    "cv2.destroyAllWindows()\n",
    "source.release()"
   ]
  },
  {
   "cell_type": "code",
   "execution_count": null,
   "id": "45c50b02",
   "metadata": {},
   "outputs": [],
   "source": []
  }
 ],
 "metadata": {
  "kernelspec": {
   "display_name": "Python 3 (ipykernel)",
   "language": "python",
   "name": "python3"
  },
  "language_info": {
   "codemirror_mode": {
    "name": "ipython",
    "version": 3
   },
   "file_extension": ".py",
   "mimetype": "text/x-python",
   "name": "python",
   "nbconvert_exporter": "python",
   "pygments_lexer": "ipython3",
   "version": "3.10.9"
  }
 },
 "nbformat": 4,
 "nbformat_minor": 5
}
